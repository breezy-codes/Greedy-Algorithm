{
 "cells": [
  {
   "cell_type": "markdown",
   "metadata": {},
   "source": [
    "# **Memory Allocation- Fit First vs Dynamic**\n",
    "\n",
    "**Problem Statement**\n",
    "\n",
    "Given a set of memory blocks of different sizes and a set of processes each requiring a certain amount of memory, allocate memory to the processes in such a way that minimises the wasted space. The \"First Fit\" algorithm places each process in the first block of memory that is large enough to accommodate it.\n",
    "\n",
    "**Greedy Approach**\n",
    "The Greedy Algorithm places each process in the first block of memory that is large enough to accommodate it. This algorithm is simple and efficient, but it may not always produce the optimal solution. It does the following process:\n",
    "1. Sort the memory blocks in ascending order of size.\n",
    "2. For each process, find the first memory block that is large enough to accommodate it.\n",
    "3. Allocate the process to that memory block and update the memory block size.\n",
    "4. Repeat steps 2 and 3 for all processes.\n",
    "5. Calculate the wasted space by summing the difference between the memory block size and the process size for each process.\n",
    "6. Return the total wasted space.\n",
    "7. The time complexity of this algorithm is $O(n \\log n)$ due to the sorting step.\n",
    "\n",
    "\n",
    "**Dynamic Programming Approach**\n",
    "The Dynamic Programming approach attempts to find the optimal allocation of processes to memory blocks by considering all possible ways to allocate memory and choosing the one that minimises wasted space. It does the following process:\n",
    "1. Create a 2D array dp of size $(n+1) x (m+1)$, where n is the number of processes and m is the number of memory blocks.\n",
    "2. Initialise `dp[i][j]` to be the minimum wasted space when allocating the first `i` processes to the first `j` memory blocks.\n",
    "3. For each process i and memory block `j`, calculate the wasted space if process `i` is allocated to memory block `j` and update `dp[i][j]` accordingly.\n",
    "4. Return the minimum wasted space from the last row of the dp array.\n",
    "5. The time complexity of this algorithm is $O(n*m)$ where n is the number of processes and m is the number of memory blocks.\n"
   ]
  },
  {
   "cell_type": "markdown",
   "metadata": {},
   "source": [
    "## **Functions for the Greedy, Dynamic Programming, and Test Cases**"
   ]
  },
  {
   "cell_type": "markdown",
   "metadata": {},
   "source": [
    "This is the example use case of the Greedy Algorithm. Using the example of selecting the change for a set value out of a given set of denominations. The goal is to select the minimum number of coins to make up the given value. However, the greedy algorithm does not always give the optimal solution."
   ]
  },
  {
   "cell_type": "code",
   "execution_count": 55,
   "metadata": {},
   "outputs": [],
   "source": [
    "def first_fit(memory_blocks, processes):\n",
    "    allocation = [-1] * len(processes)\n",
    "    wasted_space = 0\n",
    "\n",
    "    for i, process in enumerate(processes):\n",
    "        for j, block in enumerate(memory_blocks):\n",
    "            if block >= process:\n",
    "                allocation[i] = j\n",
    "                memory_blocks[j] -= process\n",
    "                wasted_space += block - process\n",
    "                print(f\"Process {process} allocated to block {block} (index {j})\")\n",
    "                break\n",
    "\n",
    "    print(f\"Total wasted space: {wasted_space}\")\n",
    "    return allocation"
   ]
  },
  {
   "cell_type": "markdown",
   "metadata": {},
   "source": [
    "This is the example use case of Dynamic Programming. Using the example of selecting the change for a set value out of a given set of denominations. The goal is to select the minimum number of coins to make up the given value. It always gives the optimal solution. However, it is slower than the Greedy Algorithm."
   ]
  },
  {
   "cell_type": "code",
   "execution_count": 56,
   "metadata": {},
   "outputs": [],
   "source": [
    "def dynamic_fit(memory_blocks, processes):\n",
    "    allocation = [-1] * len(processes)\n",
    "    wasted_space = 0\n",
    "    \n",
    "    for i, process in enumerate(processes):\n",
    "        best_idx = -1\n",
    "        for j, block in enumerate(memory_blocks):\n",
    "            if block >= process:\n",
    "                if best_idx == -1 or memory_blocks[best_idx] > block:\n",
    "                    best_idx = j\n",
    "        if best_idx != -1:\n",
    "            allocation[i] = best_idx\n",
    "            memory_blocks[best_idx] -= process\n",
    "            print(f\"Process {process} allocated to block {memory_blocks[best_idx] + process} (index {best_idx})\")\n",
    "    \n",
    "    print(f\"Total wasted space: {wasted_space}\")\n",
    "    return allocation"
   ]
  },
  {
   "cell_type": "markdown",
   "metadata": {},
   "source": [
    "## **Comparing Greedy and Dynamic**"
   ]
  },
  {
   "cell_type": "markdown",
   "metadata": {},
   "source": [
    "##### **Use case 1**\n",
    "\n",
    "\n",
    "Using memory blocks `[100, 500, 200, 300, 600]`, we want to allocate the processes `[212, 417, 112, 426]`. The First Fit algorithm will give us the following solution:\n",
    "\n",
    "- Process 212 allocated to block 500 (index 1)\n",
    "- Process 417 allocated to block 600 (index 4)\n",
    "- Process 112 allocated to block 288 (remaining in index 1 after 212)\n",
    "- Process 426 not allocated (-1)\n",
    "\n",
    "Memory allocation (First Fit): `[1, 4, 1, -1]`\n",
    "\n",
    "Fit First also has the total wasted space of 647.\n",
    "\n",
    "When using the Best Fit algorithm, we get the following results:\n",
    "\n",
    "- Process 212 allocated to block 300 (index 3)\n",
    "- Process 417 allocated to block 500 (index 1)\n",
    "- Process 112 allocated to block 200 (index 2)\n",
    "- Process 426 allocated to block 600 (index 4)\n",
    "\n",
    "Memory allocation (Best Fit): `[3, 1, 2, 4]`\n",
    "\n",
    "Best Fit has the total wasted space of 0."
   ]
  },
  {
   "cell_type": "code",
   "execution_count": 57,
   "metadata": {},
   "outputs": [
    {
     "name": "stdout",
     "output_type": "stream",
     "text": [
      "Process 212 allocated to block 500 (index 1)\n",
      "Process 417 allocated to block 600 (index 4)\n",
      "Process 112 allocated to block 288 (index 1)\n",
      "Total wasted space: 647\n",
      "Memory allocation (First Fit): [1, 4, 1, -1]\n",
      "Process 212 allocated to block 300 (index 3)\n",
      "Process 417 allocated to block 500 (index 1)\n",
      "Process 112 allocated to block 200 (index 2)\n",
      "Process 426 allocated to block 600 (index 4)\n",
      "Total wasted space: 0\n",
      "Memory allocation (Best Fit): [3, 1, 2, 4]\n"
     ]
    }
   ],
   "source": [
    "memory_blocks = [100, 500, 200, 300, 600]\n",
    "processes = [212, 417, 112, 426]\n",
    "\n",
    "# Using First Fit Algorithm (Greedy Algorithm)\n",
    "first_fit_allocation = first_fit(memory_blocks.copy(), processes)\n",
    "print(f\"Memory allocation (First Fit): {first_fit_allocation}\")\n",
    "\n",
    "# Using Best Fit Algorithm (Dynamic Programming)\n",
    "best_fit_allocation = dynamic_fit(memory_blocks.copy(), processes)\n",
    "print(f\"Memory allocation (Best Fit): {best_fit_allocation}\")"
   ]
  },
  {
   "cell_type": "markdown",
   "metadata": {},
   "source": [
    "##### **Use case 2**\n",
    "Using memory blocks `[50, 200, 70, 115, 35]`, we want to allocate the processes `[50, 35, 70, 115]`. The First Fit algorithm will give us the following solution:\n",
    "\n",
    "- Process 50 allocated to block 50 (index 0)\n",
    "- Process 35 allocated to block 200 (index 1)\n",
    "- Process 70 allocated to block 165 (remaining in index 1 after 35)\n",
    "- Process 115 allocated to block 115 (index 3)\n",
    "\n",
    "Memory allocation (First Fit): `[0, 1, 1, 3]`\n",
    "\n",
    "Fit First also has the total wasted space of 260.\n",
    "\n",
    "When using the Best Fit algorithm, we get the following results:\n",
    "\n",
    "- Process 50 allocated to block 50 (index 0)\n",
    "- Process 35 allocated to block 35 (index 4)\n",
    "- Process 70 allocated to block 70 (index 2)\n",
    "- Process 115 allocated to block 115 (index 3)\n",
    "\n",
    "Memory allocation (Best Fit): `[0, 4, 2, 3]`\n",
    "\n",
    "Best Fit has the total wasted space of 0."
   ]
  },
  {
   "cell_type": "code",
   "execution_count": 58,
   "metadata": {},
   "outputs": [
    {
     "name": "stdout",
     "output_type": "stream",
     "text": [
      "Process 50 allocated to block 50 (index 0)\n",
      "Process 35 allocated to block 200 (index 1)\n",
      "Process 70 allocated to block 165 (index 1)\n",
      "Process 115 allocated to block 115 (index 3)\n",
      "Total wasted space: 260\n",
      "Memory allocation (First Fit): [0, 1, 1, 3]\n",
      "Process 50 allocated to block 50 (index 0)\n",
      "Process 35 allocated to block 35 (index 4)\n",
      "Process 70 allocated to block 70 (index 2)\n",
      "Process 115 allocated to block 115 (index 3)\n",
      "Total wasted space: 0\n",
      "Memory allocation (Best Fit): [0, 4, 2, 3]\n"
     ]
    }
   ],
   "source": [
    "memory_blocks = [50, 200, 70, 115, 35]\n",
    "processes = [50, 35, 70, 115]\n",
    "\n",
    "# Using First Fit Algorithm (Greedy Algorithm)\n",
    "first_fit_allocation = first_fit(memory_blocks.copy(), processes)\n",
    "print(f\"Memory allocation (First Fit): {first_fit_allocation}\")\n",
    "\n",
    "# Using Best Fit Algorithm (Dynamic Programming)\n",
    "best_fit_allocation = dynamic_fit(memory_blocks.copy(), processes)\n",
    "print(f\"Memory allocation (Best Fit): {best_fit_allocation}\")"
   ]
  },
  {
   "cell_type": "markdown",
   "metadata": {},
   "source": [
    "##### **Use case 3**\n",
    "Using memory blocks `[300, 600, 350, 200, 700]`, we want to allocate the processes `[300, 350, 200, 600]`. The First Fit algorithm will give us the following solution:\n",
    "\n",
    "- Process 300 allocated to block 300 (index 0)\n",
    "- Process 350 allocated to block 600 (index 1)\n",
    "- Process 200 allocated to block 250 (remaining in index 1 after 350)\n",
    "- Process 600 allocated to block 700 (index 4)\n",
    "\n",
    "Memory allocation (First Fit): `[0, 1, 1, 4]`\n",
    "\n",
    "Fit First also has the total wasted space of 400.\n",
    "\n",
    "When using the Best Fit algorithm, we get the following results:\n",
    "\n",
    "- Process 300 allocated to block 300 (index 0)\n",
    "- Process 350 allocated to block 350 (index 2)\n",
    "- Process 200 allocated to block 200 (index 3)\n",
    "- Process 600 allocated to block 600 (index 1)\n",
    "\n",
    "Memory allocation (Best Fit): `[0, 2, 3, 1]`\n",
    "\n",
    "Best Fit has the total wasted space of 0."
   ]
  },
  {
   "cell_type": "code",
   "execution_count": 59,
   "metadata": {},
   "outputs": [
    {
     "name": "stdout",
     "output_type": "stream",
     "text": [
      "Process 300 allocated to block 300 (index 0)\n",
      "Process 350 allocated to block 600 (index 1)\n",
      "Process 200 allocated to block 250 (index 1)\n",
      "Process 600 allocated to block 700 (index 4)\n",
      "Total wasted space: 400\n",
      "Memory allocation (First Fit): [0, 1, 1, 4]\n",
      "Process 300 allocated to block 300 (index 0)\n",
      "Process 350 allocated to block 350 (index 2)\n",
      "Process 200 allocated to block 200 (index 3)\n",
      "Process 600 allocated to block 600 (index 1)\n",
      "Total wasted space: 0\n",
      "Memory allocation (Best Fit): [0, 2, 3, 1]\n"
     ]
    }
   ],
   "source": [
    "memory_blocks = [300, 600, 350, 200, 700]\n",
    "processes = [300, 350, 200, 600]\n",
    "\n",
    "# Using First Fit Algorithm (Greedy Algorithm)\n",
    "first_fit_allocation = first_fit(memory_blocks.copy(), processes)\n",
    "print(f\"Memory allocation (First Fit): {first_fit_allocation}\")\n",
    "\n",
    "# Using Best Fit Algorithm (Dynamic Programming)\n",
    "best_fit_allocation = dynamic_fit(memory_blocks.copy(), processes)\n",
    "print(f\"Memory allocation (Best Fit): {best_fit_allocation}\")"
   ]
  }
 ],
 "metadata": {
  "kernelspec": {
   "display_name": "Python 3",
   "language": "python",
   "name": "python3"
  },
  "language_info": {
   "codemirror_mode": {
    "name": "ipython",
    "version": 3
   },
   "file_extension": ".py",
   "mimetype": "text/x-python",
   "name": "python",
   "nbconvert_exporter": "python",
   "pygments_lexer": "ipython3",
   "version": "3.10.12"
  }
 },
 "nbformat": 4,
 "nbformat_minor": 2
}
