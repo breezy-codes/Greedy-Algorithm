{
 "cells": [
  {
   "cell_type": "markdown",
   "metadata": {},
   "source": [
    "# **Selecting the Optimal Coin Change**\n",
    "\n",
    "**Problem Statement**\n",
    "\n",
    "Given a list of coin denominations and an amount, determine the minimum number of coins needed to make up that amount. For simplicity, we'll assume the denominations allow for an exact solution under all circumstances.\n",
    "\n",
    "**Greedy Approach**\n",
    "The greedy approach to this problem is to always use the largest denomination that does not exceed the remaining amount until the entire amount is paid. Here’s how you would solve the problem for 63 cents using the denominations provided:\n",
    "- Start with the largest coin and use as many as you can without exceeding the amount.\n",
    "- Move to the next largest coin and repeat until the amount is reduced to zero.\n",
    "\n",
    "**Dynamic Programming Approach**\n",
    "The greedy approach works for the denominations provided, but it doesn’t work for all denominations. For example, if the denominations were 1, 3, and 4, the greedy approach would fail for 6 cents. The greedy approach would use 4, then 1, and then 1, for a total of 3 coins. However, the optimal solution is to use 3 coins of denomination 2. This is where dynamic programming comes in. We can solve this problem using dynamic programming by following these steps:\n",
    "- Create a list to store the minimum number of coins needed to make up each amount from 0 to the target amount.\n",
    "- Initialise the list with infinity for all amounts except 0, which is initialised to 0.\n",
    "- For each amount from 1 to the target amount, iterate through all the denominations and update the minimum number of coins needed to make up that amount.\n",
    "- The minimum number of coins needed to make up the target amount is the value at the target amount in the list.\n",
    "- Return the minimum number of coins needed.\n"
   ]
  },
  {
   "cell_type": "markdown",
   "metadata": {},
   "source": [
    "## **Functions for the Greedy, Dynamic Programming, and Test Cases**"
   ]
  },
  {
   "cell_type": "markdown",
   "metadata": {},
   "source": [
    "This is the example use case of the Greedy Algorithm. Using the example of selecting the change for a set value out of a given set of denominations. The goal is to select the minimum number of coins to make up the given value. However, the greedy algorithm does not always give the optimal solution."
   ]
  },
  {
   "cell_type": "code",
   "execution_count": 27,
   "metadata": {},
   "outputs": [],
   "source": [
    "def find_min_coins(denominations, amount):\n",
    "    denominations.sort(reverse=True)\n",
    "    coin_count = 0\n",
    "    coin_used = []\n",
    "\n",
    "    for coin in denominations:\n",
    "        while amount >= coin:\n",
    "            amount -= coin\n",
    "            coin_count += 1\n",
    "            coin_used.append(coin)\n",
    "\n",
    "    return coin_count, coin_used"
   ]
  },
  {
   "cell_type": "markdown",
   "metadata": {},
   "source": [
    "This is the example use case of Dynamic Programming. Using the example of selecting the change for a set value out of a given set of denominations. The goal is to select the minimum number of coins to make up the given value. It always gives the optimal solution. However, it is slower than the Greedy Algorithm."
   ]
  },
  {
   "cell_type": "code",
   "execution_count": 26,
   "metadata": {},
   "outputs": [],
   "source": [
    "def find_min_coins_dp(denominations, amount):\n",
    "    dp = [float('inf')] * (amount + 1)\n",
    "    dp[0] = 0\n",
    "    coins_used = [0] * (amount + 1)\n",
    "\n",
    "    # Iterate over each amount from 1 to the target amount\n",
    "    for i in range(1, amount + 1):\n",
    "        for coin in denominations:\n",
    "            if i >= coin and dp[i - coin] + 1 < dp[i]:\n",
    "                dp[i] = dp[i - coin] + 1\n",
    "                coins_used[i] = coin\n",
    "\n",
    "    # Reconstruct the solution\n",
    "    if dp[amount] == float('inf'):\n",
    "        return float('inf'), []  # No solution found\n",
    "\n",
    "    result = []\n",
    "    while amount > 0:\n",
    "        result.append(coins_used[amount])\n",
    "        amount -= coins_used[amount]\n",
    "\n",
    "    return len(result), result"
   ]
  },
  {
   "cell_type": "markdown",
   "metadata": {},
   "source": [
    "The following is used for printing the comparison between the Greedy Algorithm and Dynamic Programming."
   ]
  },
  {
   "cell_type": "code",
   "execution_count": 34,
   "metadata": {},
   "outputs": [],
   "source": [
    "def test_coin_algorithms(denominations, amounts):\n",
    "    print(f\"Denominations: {denominations}\")\n",
    "    print(f\"\\nGreedy Algorithm:\")\n",
    "    for amount in amounts:\n",
    "        coins_needed, coins_used = find_min_coins(denominations, amount)\n",
    "        print(f\"Amount: {amount}, Total coins needed: {coins_needed}, Coins used: {coins_used}\")\n",
    "\n",
    "    print(\"\\nDynamic Programming Algorithm:\")\n",
    "    for amount in amounts:\n",
    "        coins_needed, coins_used = find_min_coins_dp(denominations, amount)\n",
    "        print(f\"Amount: {amount}, Total coins needed: {coins_needed}, Coins used: {coins_used}\")"
   ]
  },
  {
   "cell_type": "markdown",
   "metadata": {},
   "source": [
    "## **Looking at the Use of the Greedy Algorithm**\n",
    "\n",
    "##### **Use case 1**\n",
    "Using 4 coins of denominations 1, 3, 4, 6; we want to make a change of 8. The greedy algorithm will give us the following solution:\n",
    "- 6 + 1 + 1 = 8\n",
    "\n",
    "While the optimal solution is:\n",
    "- 4 + 4 = 8\n",
    "\n",
    "However, when we give the value of 12 to make change, it provides the following solution:\n",
    "- 6 + 6 = 12\n",
    "\n",
    "Which is the optimal solution."
   ]
  },
  {
   "cell_type": "code",
   "execution_count": 1,
   "metadata": {},
   "outputs": [
    {
     "name": "stdout",
     "output_type": "stream",
     "text": [
      "Total coins needed: 3\n",
      "Coins used: [6, 1, 1]\n"
     ]
    }
   ],
   "source": [
    "denominations = [1, 3, 4, 6]\n",
    "amount = 8\n",
    "coins_needed, coins_used = find_min_coins(denominations, amount)\n",
    "print(f\"Total coins needed: {coins_needed}\")\n",
    "print(f\"Coins used: {coins_used}\")"
   ]
  },
  {
   "cell_type": "code",
   "execution_count": 2,
   "metadata": {},
   "outputs": [
    {
     "name": "stdout",
     "output_type": "stream",
     "text": [
      "Total coins needed: 2\n",
      "Coins used: [6, 6]\n"
     ]
    }
   ],
   "source": [
    "denominations = [1, 3, 4, 6]\n",
    "amount = 12\n",
    "coins_needed, coins_used = find_min_coins(denominations, amount)\n",
    "print(f\"Total coins needed: {coins_needed}\")\n",
    "print(f\"Coins used: {coins_used}\")"
   ]
  },
  {
   "cell_type": "markdown",
   "metadata": {},
   "source": [
    "##### **Use case 2**\n",
    "Using 3 coins of denominations 1, 3, 4; we want to make a change of 6. The greedy algorithm will give us the following solution:\n",
    "- 4 + 1 + 1 = 6\n",
    "\n",
    "While the optimal solution is:\n",
    "- 3 + 3 = 6\n",
    "\n",
    "However, when we give the value of 8 to make change, it provides the following solution:\n",
    "- 4 + 4 = 8\n",
    "\n",
    "Which is the optimal solution."
   ]
  },
  {
   "cell_type": "code",
   "execution_count": 3,
   "metadata": {},
   "outputs": [
    {
     "name": "stdout",
     "output_type": "stream",
     "text": [
      "Total coins needed: 3\n",
      "Coins used: [4, 1, 1]\n"
     ]
    }
   ],
   "source": [
    "denominations = [1, 3, 4]\n",
    "amount = 6\n",
    "coins_needed, coins_used = find_min_coins(denominations, amount)\n",
    "print(f\"Total coins needed: {coins_needed}\")\n",
    "print(f\"Coins used: {coins_used}\")"
   ]
  },
  {
   "cell_type": "code",
   "execution_count": 4,
   "metadata": {},
   "outputs": [
    {
     "name": "stdout",
     "output_type": "stream",
     "text": [
      "Total coins needed: 2\n",
      "Coins used: [4, 4]\n"
     ]
    }
   ],
   "source": [
    "denominations = [1, 3, 4]\n",
    "amount = 8\n",
    "coins_needed, coins_used = find_min_coins(denominations, amount)\n",
    "print(f\"Total coins needed: {coins_needed}\")\n",
    "print(f\"Coins used: {coins_used}\")"
   ]
  },
  {
   "cell_type": "markdown",
   "metadata": {},
   "source": [
    "##### **Use case 3**\n",
    "Using 3 coins of denominations 1, 5, 6; we want to make a change of 15. The greedy algorithm will give us the following solution:\n",
    "- 6 + 6 + 1 + 1 + 1 = 15\n",
    "\n",
    "While the optimal solution is:\n",
    "- 5 + 5 + 5 = 15\n",
    "\n",
    "Giving the value of 8 to make change, it provides the following solution:\n",
    "- 6 + 1 + 1 = 8\n",
    "\n",
    "Which is the optimal solution."
   ]
  },
  {
   "cell_type": "code",
   "execution_count": 9,
   "metadata": {},
   "outputs": [
    {
     "name": "stdout",
     "output_type": "stream",
     "text": [
      "Total coins needed: 5\n",
      "Coins used: [6, 6, 1, 1, 1]\n"
     ]
    }
   ],
   "source": [
    "denominations = [1, 5, 6]\n",
    "amount = 15\n",
    "coins_needed, coins_used = find_min_coins(denominations, amount)\n",
    "print(f\"Total coins needed: {coins_needed}\")\n",
    "print(f\"Coins used: {coins_used}\")"
   ]
  },
  {
   "cell_type": "code",
   "execution_count": 7,
   "metadata": {},
   "outputs": [
    {
     "name": "stdout",
     "output_type": "stream",
     "text": [
      "Total coins needed: 3\n",
      "Coins used: [6, 1, 1]\n"
     ]
    }
   ],
   "source": [
    "denominations = [1, 5, 6]\n",
    "amount = 8\n",
    "coins_needed, coins_used = find_min_coins(denominations, amount)\n",
    "print(f\"Total coins needed: {coins_needed}\")\n",
    "print(f\"Coins used: {coins_used}\")"
   ]
  },
  {
   "cell_type": "markdown",
   "metadata": {},
   "source": [
    "## **Comparing Greedy to Dynamic Programming**\n",
    "\n",
    "The Greedy Algorithm is faster than Dynamic Programming. However, it doesn't always give the optimal solution. The Greedy Algorithm is used when the optimal solution is not required, and the solution is needed quickly. The Dynamic Programming is used when the optimal solution is required, and the solution can take time.\n",
    "\n",
    "Below are a series of examples for a set of denominations, and a set of amounts to compare the performance between the two in terms of finding the optimal solution."
   ]
  },
  {
   "cell_type": "code",
   "execution_count": 35,
   "metadata": {},
   "outputs": [
    {
     "name": "stdout",
     "output_type": "stream",
     "text": [
      "Denominations: [1, 3, 4]\n",
      "\n",
      "Greedy Algorithm:\n",
      "Amount: 6, Total coins needed: 3, Coins used: [4, 1, 1]\n",
      "Amount: 7, Total coins needed: 2, Coins used: [4, 3]\n",
      "Amount: 8, Total coins needed: 2, Coins used: [4, 4]\n",
      "Amount: 10, Total coins needed: 4, Coins used: [4, 4, 1, 1]\n",
      "Amount: 30, Total coins needed: 9, Coins used: [4, 4, 4, 4, 4, 4, 4, 1, 1]\n",
      "Amount: 22, Total coins needed: 7, Coins used: [4, 4, 4, 4, 4, 1, 1]\n",
      "\n",
      "Dynamic Programming Algorithm:\n",
      "Amount: 6, Total coins needed: 2, Coins used: [3, 3]\n",
      "Amount: 7, Total coins needed: 2, Coins used: [4, 3]\n",
      "Amount: 8, Total coins needed: 2, Coins used: [4, 4]\n",
      "Amount: 10, Total coins needed: 3, Coins used: [4, 3, 3]\n",
      "Amount: 30, Total coins needed: 8, Coins used: [4, 4, 4, 4, 4, 4, 3, 3]\n",
      "Amount: 22, Total coins needed: 6, Coins used: [4, 4, 4, 4, 3, 3]\n"
     ]
    }
   ],
   "source": [
    "denominations = [1, 3, 4]\n",
    "amounts = [6, 7, 8, 10, 30, 22]\n",
    "test_coin_algorithms(denominations, amounts)"
   ]
  },
  {
   "cell_type": "code",
   "execution_count": 36,
   "metadata": {},
   "outputs": [
    {
     "name": "stdout",
     "output_type": "stream",
     "text": [
      "Denominations: [1, 5, 6]\n",
      "\n",
      "Greedy Algorithm:\n",
      "Amount: 8, Total coins needed: 3, Coins used: [6, 1, 1]\n",
      "Amount: 10, Total coins needed: 5, Coins used: [6, 1, 1, 1, 1]\n",
      "Amount: 12, Total coins needed: 2, Coins used: [6, 6]\n",
      "Amount: 20, Total coins needed: 5, Coins used: [6, 6, 6, 1, 1]\n",
      "Amount: 33, Total coins needed: 8, Coins used: [6, 6, 6, 6, 6, 1, 1, 1]\n",
      "Amount: 45, Total coins needed: 10, Coins used: [6, 6, 6, 6, 6, 6, 6, 1, 1, 1]\n",
      "\n",
      "Dynamic Programming Algorithm:\n",
      "Amount: 8, Total coins needed: 3, Coins used: [6, 1, 1]\n",
      "Amount: 10, Total coins needed: 2, Coins used: [5, 5]\n",
      "Amount: 12, Total coins needed: 2, Coins used: [6, 6]\n",
      "Amount: 20, Total coins needed: 4, Coins used: [5, 5, 5, 5]\n",
      "Amount: 33, Total coins needed: 6, Coins used: [6, 6, 6, 5, 5, 5]\n",
      "Amount: 45, Total coins needed: 8, Coins used: [6, 6, 6, 6, 6, 5, 5, 5]\n"
     ]
    }
   ],
   "source": [
    "denominations = [1, 5, 6]\n",
    "amounts = [8, 10, 12, 20, 33, 45]\n",
    "test_coin_algorithms(denominations, amounts)"
   ]
  }
 ],
 "metadata": {
  "kernelspec": {
   "display_name": "Python 3",
   "language": "python",
   "name": "python3"
  },
  "language_info": {
   "codemirror_mode": {
    "name": "ipython",
    "version": 3
   },
   "file_extension": ".py",
   "mimetype": "text/x-python",
   "name": "python",
   "nbconvert_exporter": "python",
   "pygments_lexer": "ipython3",
   "version": "3.10.12"
  }
 },
 "nbformat": 4,
 "nbformat_minor": 2
}
